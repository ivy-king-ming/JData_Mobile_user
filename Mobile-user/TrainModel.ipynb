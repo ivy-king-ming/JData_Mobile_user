{
 "cells": [
  {
   "cell_type": "code",
   "execution_count": 207,
   "metadata": {
    "collapsed": true
   },
   "outputs": [],
   "source": [
    "import pandas as pd\n",
    "import numpy as np\n",
    "import lightgbm as lgb\n",
    "from sklearn import metrics\n",
    "import matplotlib.pyplot as plt\n",
    "import seaborn as sns"
   ]
  },
  {
   "cell_type": "code",
   "execution_count": 208,
   "metadata": {
    "collapsed": true
   },
   "outputs": [],
   "source": [
    "train = pd.read_csv('/home/ts13/Desktop/feature/train_featureV9.csv')\n",
    "test = pd.read_csv('/home/ts13/Desktop/feature/test_featureV9.csv')"
   ]
  },
  {
   "cell_type": "code",
   "execution_count": 209,
   "metadata": {
    "collapsed": true
   },
   "outputs": [],
   "source": [
    "dtrain = lgb.Dataset(train.drop(['uid','label'],axis=1),label=train.label)\n",
    "dtest = lgb.Dataset(test.drop(['uid'],axis=1))\n"
   ]
  },
  {
   "cell_type": "code",
   "execution_count": 210,
   "metadata": {
    "collapsed": true
   },
   "outputs": [],
   "source": [
    "lgb_params =  {\n",
    "    'boosting_type': 'gbdt',\n",
    "    'objective': 'binary',\n",
    "\n",
    "\n",
    "#    'metric': ('multi_logloss', 'multi_error'),\n",
    "    #'metric_freq': 100,\n",
    "    'is_training_metric': False,\n",
    "    'min_data_in_leaf': 12,\n",
    "    'num_leaves': 128,\n",
    "    'learning_rate': 0.095,\n",
    "    'feature_fraction': 0.8,\n",
    "    'bagging_fraction': 0.8,\n",
    "    'verbosity':-1,\n",
    "\n",
    "    #'gpu_device_id':2,\n",
    "    #'device':'gpu'\n",
    "   # 'lambda_l1': 0.001,\n",
    "    #'skip_drop': 0.95,\n",
    "    #'max_drop' : 10,\n",
    "   # 'lambda_l2': 0.005,\n",
    "    #'num_threads': 18\n",
    "}"
   ]
  },
  {
   "cell_type": "code",
   "execution_count": 211,
   "metadata": {
    "collapsed": true
   },
   "outputs": [],
   "source": [
    "def evalMetric(preds,dtrain):\n",
    " \n",
    "    label = dtrain.get_label()\n",
    " \n",
    "\n",
    "    pre = pd.DataFrame({'preds':preds,'label':label})\n",
    " \n",
    "    pre= pre.sort_values(by='preds',ascending=False)\n",
    "\n",
    "    auc = metrics.roc_auc_score(pre.label,pre.preds)\n",
    "\n",
    "    pre.preds=pre.preds.map(lambda x: 1 if x>=0.5 else 0)\n",
    "\n",
    "    f1 = metrics.f1_score(pre.label,pre.preds)\n",
    "\n",
    "    res = 0.6*auc + 0.4*f1\n",
    "\n",
    "    return 'res',res,True"
   ]
  },
  {
   "cell_type": "code",
   "execution_count": 212,
   "metadata": {
    "scrolled": false
   },
   "outputs": [
    {
     "name": "stderr",
     "output_type": "stream",
     "text": [
      "/home/ts13/anaconda3/lib/python3.6/site-packages/sklearn/metrics/classification.py:1135: UndefinedMetricWarning: F-score is ill-defined and being set to 0.0 due to no predicted samples.\n",
      "  'precision', 'predicted', average, warn_for)\n"
     ]
    },
    {
     "name": "stdout",
     "output_type": "stream",
     "text": [
      "[5]\tcv_agg's res: 0.550376 + 0.0156305\n",
      "[10]\tcv_agg's res: 0.660621 + 0.00802708\n",
      "[15]\tcv_agg's res: 0.709927 + 0.0123404\n",
      "[20]\tcv_agg's res: 0.734784 + 0.00954759\n",
      "[25]\tcv_agg's res: 0.74168 + 0.0112966\n",
      "[30]\tcv_agg's res: 0.746854 + 0.0097929\n",
      "[35]\tcv_agg's res: 0.754351 + 0.00836133\n",
      "[40]\tcv_agg's res: 0.754233 + 0.00657825\n",
      "[45]\tcv_agg's res: 0.760151 + 0.00702842\n",
      "[50]\tcv_agg's res: 0.759982 + 0.00695542\n",
      "[55]\tcv_agg's res: 0.763167 + 0.00523902\n",
      "[60]\tcv_agg's res: 0.766164 + 0.0078044\n",
      "[65]\tcv_agg's res: 0.76509 + 0.00968967\n",
      "[70]\tcv_agg's res: 0.765296 + 0.00727051\n",
      "[75]\tcv_agg's res: 0.766716 + 0.00855036\n",
      "[80]\tcv_agg's res: 0.765849 + 0.010123\n",
      "[85]\tcv_agg's res: 0.769025 + 0.011164\n",
      "[90]\tcv_agg's res: 0.767992 + 0.0071299\n",
      "[95]\tcv_agg's res: 0.768901 + 0.0090718\n",
      "[100]\tcv_agg's res: 0.768756 + 0.00824848\n",
      "[105]\tcv_agg's res: 0.769456 + 0.0087964\n",
      "[110]\tcv_agg's res: 0.769692 + 0.00876213\n",
      "[115]\tcv_agg's res: 0.767135 + 0.00981879\n",
      "[120]\tcv_agg's res: 0.768424 + 0.00696692\n",
      "[125]\tcv_agg's res: 0.765363 + 0.00784335\n",
      "[130]\tcv_agg's res: 0.765983 + 0.00863312\n",
      "[135]\tcv_agg's res: 0.764562 + 0.00712729\n",
      "[140]\tcv_agg's res: 0.766058 + 0.00644762\n",
      "[145]\tcv_agg's res: 0.765497 + 0.00807612\n",
      "[150]\tcv_agg's res: 0.764097 + 0.00824359\n",
      "[155]\tcv_agg's res: 0.763198 + 0.0059138\n",
      "[160]\tcv_agg's res: 0.765367 + 0.00694706\n",
      "[165]\tcv_agg's res: 0.763891 + 0.00634341\n",
      "[170]\tcv_agg's res: 0.764129 + 0.00754765\n",
      "[175]\tcv_agg's res: 0.764575 + 0.00749983\n",
      "[180]\tcv_agg's res: 0.765074 + 0.00695214\n",
      "[185]\tcv_agg's res: 0.766087 + 0.0101563\n",
      "[190]\tcv_agg's res: 0.765446 + 0.00845687\n"
     ]
    },
    {
     "data": {
      "text/plain": [
       "{'res-mean': [0.48988617496071912,\n",
       "  0.50184350940366296,\n",
       "  0.51500537311365324,\n",
       "  0.52511525435891615,\n",
       "  0.55037607705106195,\n",
       "  0.58242537914180614,\n",
       "  0.60644465142566928,\n",
       "  0.62708788399148663,\n",
       "  0.65195724928334176,\n",
       "  0.66062069481108665,\n",
       "  0.6751025653254793,\n",
       "  0.68694914755316017,\n",
       "  0.69625372602561963,\n",
       "  0.70611833011112657,\n",
       "  0.70992733573897626,\n",
       "  0.71730569047320236,\n",
       "  0.7191025628787413,\n",
       "  0.7259217957322921,\n",
       "  0.72980134316984746,\n",
       "  0.73478373403652786,\n",
       "  0.73758112930806563,\n",
       "  0.73982205335612106,\n",
       "  0.74075032112311279,\n",
       "  0.74108853654300078,\n",
       "  0.74167991674328038,\n",
       "  0.74410866059400027,\n",
       "  0.74757039159765792,\n",
       "  0.74788158529232718,\n",
       "  0.74471831930993593,\n",
       "  0.74685407896697409,\n",
       "  0.74857872813812121,\n",
       "  0.74870214797378043,\n",
       "  0.75219685633128941,\n",
       "  0.75061179238722708,\n",
       "  0.75435091801150367,\n",
       "  0.75392321843650401,\n",
       "  0.75557120875918571,\n",
       "  0.75568270320992548,\n",
       "  0.75713705085245742,\n",
       "  0.75423302620208277,\n",
       "  0.75603055895885929,\n",
       "  0.75619294392673042,\n",
       "  0.7580267348964872,\n",
       "  0.75729925143396637,\n",
       "  0.76015108831552436,\n",
       "  0.76109393403593251,\n",
       "  0.76134732226871427,\n",
       "  0.76192995000473551,\n",
       "  0.76130849266691414,\n",
       "  0.75998240382907112,\n",
       "  0.76037246443118445,\n",
       "  0.76270949817184075,\n",
       "  0.76305990707530924,\n",
       "  0.76344118604367983,\n",
       "  0.76316695549477753,\n",
       "  0.765335263407385,\n",
       "  0.76626331048114149,\n",
       "  0.76707716048939412,\n",
       "  0.76894840288600663,\n",
       "  0.76616445290392521,\n",
       "  0.76568041726714631,\n",
       "  0.76577772193627736,\n",
       "  0.76647031659569398,\n",
       "  0.76616299591500647,\n",
       "  0.765089950344081,\n",
       "  0.76501574301654862,\n",
       "  0.76416642177614802,\n",
       "  0.76436213323591817,\n",
       "  0.76408203645400652,\n",
       "  0.76529623933936897,\n",
       "  0.7661322851098934,\n",
       "  0.76569178059803189,\n",
       "  0.76442670443747629,\n",
       "  0.76580628044669119,\n",
       "  0.76671610814233337,\n",
       "  0.76539502351260313,\n",
       "  0.7658845832338147,\n",
       "  0.76593096299105456,\n",
       "  0.7653671586785068,\n",
       "  0.76584917104872885,\n",
       "  0.76816444956034291,\n",
       "  0.7671952655513431,\n",
       "  0.7681654316151606,\n",
       "  0.76915803152959616,\n",
       "  0.76902529834614031,\n",
       "  0.7673140323660429,\n",
       "  0.7671226745627201,\n",
       "  0.76697027702420961,\n",
       "  0.76644781910304116,\n",
       "  0.76799168721999844,\n",
       "  0.76889839282729522,\n",
       "  0.76833662098408551,\n",
       "  0.77062013007451213],\n",
       " 'res-stdv': [0.010373401457010493,\n",
       "  0.01105245979446981,\n",
       "  0.0079636675705439999,\n",
       "  0.0085380394644849721,\n",
       "  0.015630520249908443,\n",
       "  0.0041757458756272693,\n",
       "  0.0044075433266846393,\n",
       "  0.0080500900063590064,\n",
       "  0.010021079736157842,\n",
       "  0.0080270783532794127,\n",
       "  0.0091810893251064989,\n",
       "  0.012235792923211235,\n",
       "  0.01365624463102757,\n",
       "  0.010784277230871225,\n",
       "  0.012340355020109191,\n",
       "  0.011742647819172836,\n",
       "  0.011183305823577275,\n",
       "  0.010111585872254834,\n",
       "  0.010284878220030149,\n",
       "  0.0095475928603349306,\n",
       "  0.0096678997191373978,\n",
       "  0.010556994385240746,\n",
       "  0.010819948432908353,\n",
       "  0.010758961739946189,\n",
       "  0.011296577269086614,\n",
       "  0.0066655229301073949,\n",
       "  0.0079940849276353126,\n",
       "  0.0084810006369105909,\n",
       "  0.0099869199546817645,\n",
       "  0.0097928951385722936,\n",
       "  0.010304296368033964,\n",
       "  0.007918112923644997,\n",
       "  0.01141222264764352,\n",
       "  0.0087663919453649635,\n",
       "  0.0083613321251286964,\n",
       "  0.0077421600934626904,\n",
       "  0.0075237835310755794,\n",
       "  0.0081093947066652929,\n",
       "  0.0056697402132886996,\n",
       "  0.0065782493186419501,\n",
       "  0.0052850551255999752,\n",
       "  0.0044997320445505111,\n",
       "  0.0064612401394795,\n",
       "  0.0067532834947936649,\n",
       "  0.0070284194635564781,\n",
       "  0.0062823057997179604,\n",
       "  0.0079687645466590858,\n",
       "  0.0073950128406352709,\n",
       "  0.0069405493201048253,\n",
       "  0.0069554188953827017,\n",
       "  0.0072077246076910828,\n",
       "  0.0069309232973668962,\n",
       "  0.0045676855600827052,\n",
       "  0.0052199739678349625,\n",
       "  0.0052390215337421988,\n",
       "  0.0051547392589843992,\n",
       "  0.0068626507111193662,\n",
       "  0.0087148462061741993,\n",
       "  0.0080659626188918539,\n",
       "  0.0078043969787985681,\n",
       "  0.010102393688739048,\n",
       "  0.010472544509674062,\n",
       "  0.0092750057200733302,\n",
       "  0.0097392758428324101,\n",
       "  0.0096896668474361018,\n",
       "  0.0072395730482085023,\n",
       "  0.0093455420384538721,\n",
       "  0.010241660393742122,\n",
       "  0.0079822907242632218,\n",
       "  0.0072705143640422508,\n",
       "  0.0073462174960702564,\n",
       "  0.0072089773699046122,\n",
       "  0.0076594944454261675,\n",
       "  0.0083581961256113113,\n",
       "  0.0085503587887655226,\n",
       "  0.0094518186038253377,\n",
       "  0.0099274718877204408,\n",
       "  0.0098472547526646265,\n",
       "  0.0094710475680816683,\n",
       "  0.010122997930611244,\n",
       "  0.010713155350683427,\n",
       "  0.010102192639694798,\n",
       "  0.0098563407639850383,\n",
       "  0.0095292104711856753,\n",
       "  0.01116396747714779,\n",
       "  0.010111485501247731,\n",
       "  0.0092890792284354585,\n",
       "  0.0095497865479104369,\n",
       "  0.006311941046884424,\n",
       "  0.0071299032808092543,\n",
       "  0.0075268885974602651,\n",
       "  0.0085678700290723869,\n",
       "  0.0087133342787222359]}"
      ]
     },
     "execution_count": 212,
     "metadata": {},
     "output_type": "execute_result"
    }
   ],
   "source": [
    "lgb.cv(lgb_params,dtrain,feval=evalMetric,early_stopping_rounds=100,verbose_eval=5,num_boost_round=10000,nfold=3,metrics=['evalMetric'])"
   ]
  },
  {
   "cell_type": "code",
   "execution_count": 213,
   "metadata": {},
   "outputs": [
    {
     "name": "stderr",
     "output_type": "stream",
     "text": [
      "/home/ts13/anaconda3/lib/python3.6/site-packages/sklearn/metrics/classification.py:1135: UndefinedMetricWarning: F-score is ill-defined and being set to 0.0 due to no predicted samples.\n",
      "  'precision', 'predicted', average, warn_for)\n"
     ]
    },
    {
     "name": "stdout",
     "output_type": "stream",
     "text": [
      "[5]\ttraining's res: 0.623372\n",
      "[10]\ttraining's res: 0.839072\n",
      "[15]\ttraining's res: 0.913386\n",
      "[20]\ttraining's res: 0.942193\n",
      "[25]\ttraining's res: 0.963945\n",
      "[30]\ttraining's res: 0.97611\n",
      "[35]\ttraining's res: 0.985072\n",
      "[40]\ttraining's res: 0.990479\n",
      "[45]\ttraining's res: 0.995643\n",
      "[50]\ttraining's res: 0.997963\n",
      "[55]\ttraining's res: 0.998883\n",
      "[60]\ttraining's res: 0.999554\n",
      "[65]\ttraining's res: 0.999778\n",
      "[70]\ttraining's res: 1\n",
      "[75]\ttraining's res: 1\n",
      "[80]\ttraining's res: 1\n",
      "[85]\ttraining's res: 1\n",
      "[90]\ttraining's res: 1\n",
      "[95]\ttraining's res: 1\n",
      "[100]\ttraining's res: 1\n",
      "[105]\ttraining's res: 1\n",
      "[110]\ttraining's res: 1\n",
      "[115]\ttraining's res: 1\n",
      "[120]\ttraining's res: 1\n",
      "[125]\ttraining's res: 1\n",
      "[130]\ttraining's res: 1\n",
      "[135]\ttraining's res: 1\n",
      "[140]\ttraining's res: 1\n",
      "[145]\ttraining's res: 1\n",
      "[150]\ttraining's res: 1\n",
      "[155]\ttraining's res: 1\n",
      "[160]\ttraining's res: 1\n",
      "[165]\ttraining's res: 1\n",
      "[170]\ttraining's res: 1\n",
      "[175]\ttraining's res: 1\n",
      "[180]\ttraining's res: 1\n",
      "[185]\ttraining's res: 1\n",
      "[190]\ttraining's res: 1\n",
      "[195]\ttraining's res: 1\n",
      "[200]\ttraining's res: 1\n",
      "[205]\ttraining's res: 1\n",
      "[210]\ttraining's res: 1\n",
      "[215]\ttraining's res: 1\n",
      "[220]\ttraining's res: 1\n",
      "[225]\ttraining's res: 1\n",
      "[230]\ttraining's res: 1\n",
      "[235]\ttraining's res: 1\n",
      "[240]\ttraining's res: 1\n",
      "[245]\ttraining's res: 1\n",
      "[250]\ttraining's res: 1\n",
      "[255]\ttraining's res: 1\n",
      "[260]\ttraining's res: 1\n",
      "[265]\ttraining's res: 1\n",
      "[270]\ttraining's res: 1\n",
      "[275]\ttraining's res: 1\n",
      "[280]\ttraining's res: 1\n",
      "[285]\ttraining's res: 1\n",
      "[290]\ttraining's res: 1\n",
      "[295]\ttraining's res: 1\n",
      "[300]\ttraining's res: 1\n"
     ]
    }
   ],
   "source": [
    "model =lgb.train(lgb_params,dtrain,feval=evalMetric,verbose_eval=5,num_boost_round=300,valid_sets=[dtrain])"
   ]
  },
  {
   "cell_type": "code",
   "execution_count": 214,
   "metadata": {},
   "outputs": [],
   "source": [
    "pred=model.predict(test.drop(['uid'],axis=1))"
   ]
  },
  {
   "cell_type": "code",
   "execution_count": 215,
   "metadata": {
    "collapsed": true
   },
   "outputs": [],
   "source": [
    "res =pd.DataFrame({'uid':test.uid,'label':pred})"
   ]
  },
  {
   "cell_type": "code",
   "execution_count": 216,
   "metadata": {
    "collapsed": true
   },
   "outputs": [],
   "source": [
    "res=res.sort_values(by='label',ascending=False)\n",
    "res.label=res.label.map(lambda x: 1 if x>=0.5 else 0)"
   ]
  },
  {
   "cell_type": "code",
   "execution_count": 217,
   "metadata": {
    "collapsed": true
   },
   "outputs": [],
   "source": [
    "res.to_csv('/home/ts13/Desktop/result/lgb-baseline8.csv',index=False,header=False,sep=',',columns=['uid','label'])"
   ]
  },
  {
   "cell_type": "code",
   "execution_count": null,
   "metadata": {
    "collapsed": true
   },
   "outputs": [],
   "source": []
  },
  {
   "cell_type": "code",
   "execution_count": null,
   "metadata": {
    "collapsed": true
   },
   "outputs": [],
   "source": []
  }
 ],
 "metadata": {
  "kernelspec": {
   "display_name": "Python 2",
   "language": "python",
   "name": "python2"
  },
  "language_info": {
   "codemirror_mode": {
    "name": "ipython",
    "version": 3
   },
   "file_extension": ".py",
   "mimetype": "text/x-python",
   "name": "python",
   "nbconvert_exporter": "python",
   "pygments_lexer": "ipython3",
   "version": "3.6.3"
  }
 },
 "nbformat": 4,
 "nbformat_minor": 2
}
